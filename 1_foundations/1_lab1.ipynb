{
 "cells": [
  {
   "cell_type": "markdown",
   "metadata": {},
   "source": [
    "# Welcome to the start of your adventure in Agentic AI"
   ]
  },
  {
   "cell_type": "markdown",
   "metadata": {},
   "source": [
    "<table style=\"margin: 0; text-align: left; width:100%\">\n",
    "    <tr>\n",
    "        <td style=\"width: 150px; height: 150px; vertical-align: middle;\">\n",
    "            <img src=\"../assets/stop.png\" width=\"150\" height=\"150\" style=\"display: block;\" />\n",
    "        </td>\n",
    "        <td>\n",
    "            <h2 style=\"color:#ff7800;\">Are you ready for action??</h2>\n",
    "            <span style=\"color:#ff7800;\">Have you completed all the setup steps in the <a href=\"../setup/\">setup</a> folder?<br/>\n",
    "            Have you read the <a href=\"../README.md\">README</a>? Many common questions are answered here!<br/>\n",
    "            Have you checked out the guides in the <a href=\"../guides/01_intro.ipynb\">guides</a> folder?<br/>\n",
    "            Well in that case, you're ready!!\n",
    "            </span>\n",
    "        </td>\n",
    "    </tr>\n",
    "</table>"
   ]
  },
  {
   "cell_type": "markdown",
   "metadata": {},
   "source": [
    "<table style=\"margin: 0; text-align: left; width:100%\">\n",
    "    <tr>\n",
    "        <td style=\"width: 150px; height: 150px; vertical-align: middle;\">\n",
    "            <img src=\"../assets/tools.png\" width=\"150\" height=\"150\" style=\"display: block;\" />\n",
    "        </td>\n",
    "        <td>\n",
    "            <h2 style=\"color:#00bfff;\">This code is a live resource - keep an eye out for my updates</h2>\n",
    "            <span style=\"color:#00bfff;\">I push updates regularly. As people ask questions or have problems, I add more examples and improve explanations. As a result, the code below might not be identical to the videos, as I've added more steps and better comments. Consider this like an interactive book that accompanies the lectures.<br/><br/>\n",
    "            I try to send emails regularly with important updates related to the course. You can find this in the 'Announcements' section of Udemy in the left sidebar. You can also choose to receive my emails via your Notification Settings in Udemy. I'm respectful of your inbox and always try to add value with my emails!\n",
    "            </span>\n",
    "        </td>\n",
    "    </tr>\n",
    "</table>"
   ]
  },
  {
   "cell_type": "markdown",
   "metadata": {},
   "source": [
    "### And please do remember to contact me if I can help\n",
    "\n",
    "And I love to connect: https://www.linkedin.com/in/eddonner/\n",
    "\n",
    "\n",
    "### New to Notebooks like this one? Head over to the guides folder!\n",
    "\n",
    "Just to check you've already added the Python and Jupyter extensions to Cursor, if not already installed:\n",
    "- Open extensions (View >> extensions)\n",
    "- Search for python, and when the results show, click on the ms-python one, and Install it if not already installed\n",
    "- Search for jupyter, and when the results show, click on the Microsoft one, and Install it if not already installed  \n",
    "Then View >> Explorer to bring back the File Explorer.\n",
    "\n",
    "And then:\n",
    "1. Click where it says \"Select Kernel\" near the top right, and select the option called `.venv (Python 3.12.9)` or similar, which should be the first choice or the most prominent choice. You may need to choose \"Python Environments\" first.\n",
    "2. Click in each \"cell\" below, starting with the cell immediately below this text, and press Shift+Enter to run\n",
    "3. Enjoy!\n",
    "\n",
    "After you click \"Select Kernel\", if there is no option like `.venv (Python 3.12.9)` then please do the following:  \n",
    "1. On Mac: From the Cursor menu, choose Settings >> VS Code Settings (NOTE: be sure to select `VSCode Settings` not `Cursor Settings`);  \n",
    "On Windows PC: From the File menu, choose Preferences >> VS Code Settings(NOTE: be sure to select `VSCode Settings` not `Cursor Settings`)  \n",
    "2. In the Settings search bar, type \"venv\"  \n",
    "3. In the field \"Path to folder with a list of Virtual Environments\" put the path to the project root, like C:\\Users\\username\\projects\\agents (on a Windows PC) or /Users/username/projects/agents (on Mac or Linux).  \n",
    "And then try again.\n",
    "\n",
    "Having problems with missing Python versions in that list? Have you ever used Anaconda before? It might be interferring. Quit Cursor, bring up a new command line, and make sure that your Anaconda environment is deactivated:    \n",
    "`conda deactivate`  \n",
    "And if you still have any problems with conda and python versions, it's possible that you will need to run this too:  \n",
    "`conda config --set auto_activate_base false`  \n",
    "and then from within the Agents directory, you should be able to run `uv python list` and see the Python 3.12 version."
   ]
  },
  {
   "cell_type": "code",
   "execution_count": 3,
   "metadata": {},
   "outputs": [],
   "source": [
    "# First let's do an import. If you get an Import Error, double check that your Kernel is correct..\n",
    "\n",
    "from dotenv import load_dotenv\n"
   ]
  },
  {
   "cell_type": "code",
   "execution_count": 4,
   "metadata": {},
   "outputs": [
    {
     "data": {
      "text/plain": [
       "True"
      ]
     },
     "execution_count": 4,
     "metadata": {},
     "output_type": "execute_result"
    }
   ],
   "source": [
    "# Next it's time to load the API keys into environment variables\n",
    "# If this returns false, see the next cell!\n",
    "\n",
    "load_dotenv(override=True)"
   ]
  },
  {
   "cell_type": "markdown",
   "metadata": {},
   "source": [
    "### Wait, did that just output `False`??\n",
    "\n",
    "If so, the most common reason is that you didn't save your `.env` file after adding the key! Be sure to have saved.\n",
    "\n",
    "Also, make sure the `.env` file is named precisely `.env` and is in the project root directory (`agents`)\n",
    "\n",
    "By the way, your `.env` file should have a stop symbol next to it in Cursor on the left, and that's actually a good thing: that's Cursor saying to you, \"hey, I realize this is a file filled with secret information, and I'm not going to send it to an external AI to suggest changes, because your keys should not be shown to anyone else.\""
   ]
  },
  {
   "cell_type": "markdown",
   "metadata": {},
   "source": [
    "<table style=\"margin: 0; text-align: left; width:100%\">\n",
    "    <tr>\n",
    "        <td style=\"width: 150px; height: 150px; vertical-align: middle;\">\n",
    "            <img src=\"../assets/stop.png\" width=\"150\" height=\"150\" style=\"display: block;\" />\n",
    "        </td>\n",
    "        <td>\n",
    "            <h2 style=\"color:#ff7800;\">Final reminders</h2>\n",
    "            <span style=\"color:#ff7800;\">1. If you're not confident about Environment Variables or Web Endpoints / APIs, please read Topics 3 and 5 in this <a href=\"../guides/04_technical_foundations.ipynb\">technical foundations guide</a>.<br/>\n",
    "            2. If you want to use AIs other than OpenAI, like Gemini, DeepSeek or Ollama (free), please see the first section in this <a href=\"../guides/09_ai_apis_and_ollama.ipynb\">AI APIs guide</a>.<br/>\n",
    "            3. If you ever get a Name Error in Python, you can always fix it immediately; see the last section of this <a href=\"../guides/06_python_foundations.ipynb\">Python Foundations guide</a> and follow both tutorials and exercises.<br/>\n",
    "            </span>\n",
    "        </td>\n",
    "    </tr>\n",
    "</table>"
   ]
  },
  {
   "cell_type": "code",
   "execution_count": 5,
   "metadata": {},
   "outputs": [
    {
     "name": "stdout",
     "output_type": "stream",
     "text": [
      "OpenAI API Key exists and begins sk-proj-\n"
     ]
    }
   ],
   "source": [
    "# Check the key - if you're not using OpenAI, check whichever key you're using! Ollama doesn't need a key.\n",
    "\n",
    "import os\n",
    "openai_api_key = os.getenv('OPENAI_API_KEY')\n",
    "\n",
    "if openai_api_key:\n",
    "    print(f\"OpenAI API Key exists and begins {openai_api_key[:8]}\")\n",
    "else:\n",
    "    print(\"OpenAI API Key not set - please head to the troubleshooting guide in the setup folder\")\n",
    "    \n"
   ]
  },
  {
   "cell_type": "code",
   "execution_count": 6,
   "metadata": {},
   "outputs": [],
   "source": [
    "# And now - the all important import statement\n",
    "# If you get an import error - head over to troubleshooting in the Setup folder\n",
    "\n",
    "from openai import OpenAI"
   ]
  },
  {
   "cell_type": "code",
   "execution_count": 7,
   "metadata": {},
   "outputs": [],
   "source": [
    "# And now we'll create an instance of the OpenAI class\n",
    "# If you're not sure what it means to create an instance of a class - head over to the guides folder (guide 6)!\n",
    "# If you get a NameError - head over to the guides folder (guide 6)to learn about NameErrors - always instantly fixable\n",
    "# If you're not using OpenAI, you just need to slightly modify this - precise instructions are in the AI APIs guide (guide 9)\n",
    "\n",
    "openai = OpenAI()"
   ]
  },
  {
   "cell_type": "code",
   "execution_count": 8,
   "metadata": {},
   "outputs": [],
   "source": [
    "# Create a list of messages in the familiar OpenAI format\n",
    "\n",
    "messages = [{\"role\": \"user\", \"content\": \"What is 2+2?\"}]"
   ]
  },
  {
   "cell_type": "code",
   "execution_count": null,
   "metadata": {},
   "outputs": [
    {
     "name": "stdout",
     "output_type": "stream",
     "text": [
      "2 + 2 equals 4.\n"
     ]
    }
   ],
   "source": [
    "# And now call it! Any problems, head to the troubleshooting guide\n",
    "# This uses GPT 4.1 nano, the incredibly cheap model\n",
    "# The APIs guide (guide 9) has exact instructions for using even cheaper or free alternatives to OpenAI\n",
    "# If you get a NameError, head to the guides folder (guide 6) to learn about NameErrors - always instantly fixable\n",
    "\n",
    "response_biz_idea = openai.chat.completions.create(\n",
    "    model=\"gpt-4.1-nano\",\n",
    "    messages=messages\n",
    ")\n",
    "\n",
    "print(response_biz_idea.choices[0].message.content)\n"
   ]
  },
  {
   "cell_type": "code",
   "execution_count": 10,
   "metadata": {},
   "outputs": [],
   "source": [
    "# And now - let's ask for a question:\n",
    "\n",
    "question = \"Please propose a hard, challenging question to assess someone's IQ. Respond only with the question.\"\n",
    "messages = [{\"role\": \"user\", \"content\": question}]\n"
   ]
  },
  {
   "cell_type": "code",
   "execution_count": null,
   "metadata": {},
   "outputs": [
    {
     "name": "stdout",
     "output_type": "stream",
     "text": [
      "If two trains start from stations A and B, which are 300 miles apart, at the same time heading toward each other; Train A travels at 40 mph and Train B at 60 mph. A bird starts flying from Train A toward Train B at 90 mph, instantly turns around upon reaching Train B, and continues flying back and forth between the two trains until they meet. How far does the bird travel before the trains collide?\n"
     ]
    }
   ],
   "source": [
    "# ask it - this uses GPT 4.1 mini, still cheap but more powerful than nano\n",
    "\n",
    "response_biz_idea = openai.chat.completions.create(\n",
    "    model=\"gpt-4.1-mini\",\n",
    "    messages=messages\n",
    ")\n",
    "\n",
    "question = response_biz_idea.choices[0].message.content\n",
    "\n",
    "print(question)\n"
   ]
  },
  {
   "cell_type": "code",
   "execution_count": 12,
   "metadata": {},
   "outputs": [],
   "source": [
    "# form a new messages list\n",
    "messages = [{\"role\": \"user\", \"content\": question}]\n"
   ]
  },
  {
   "cell_type": "code",
   "execution_count": null,
   "metadata": {},
   "outputs": [
    {
     "name": "stdout",
     "output_type": "stream",
     "text": [
      "Let's analyze the problem step-by-step:\n",
      "\n",
      "---\n",
      "\n",
      "**Given:**\n",
      "\n",
      "- Distance between stations A and B = 300 miles\n",
      "- Train A speed = 40 mph (from A toward B)\n",
      "- Train B speed = 60 mph (from B toward A)\n",
      "- Bird speed = 90 mph, flying back and forth between the two trains until they meet\n",
      "\n",
      "---\n",
      "\n",
      "### Step 1: Figure out the time until the trains meet\n",
      "\n",
      "Since they move toward each other, their relative speed is:\n",
      "\n",
      "\\[\n",
      "40 \\text{ mph} + 60 \\text{ mph} = 100 \\text{ mph}\n",
      "\\]\n",
      "\n",
      "Total distance = 300 miles\n",
      "\n",
      "Time until they meet:\n",
      "\n",
      "\\[\n",
      "t = \\frac{\\text{distance}}{\\text{relative speed}} = \\frac{300}{100} = 3 \\text{ hours}\n",
      "\\]\n",
      "\n",
      "---\n",
      "\n",
      "### Step 2: Calculate how far the bird travels in 3 hours\n",
      "\n",
      "The bird flies continuously at 90 mph for those 3 hours:\n",
      "\n",
      "\\[\n",
      "\\text{distance traveled by bird} = \\text{speed} \\times \\text{time} = 90 \\times 3 = 270 \\text{ miles}\n",
      "\\]\n",
      "\n",
      "---\n",
      "\n",
      "### **Answer:**\n",
      "\n",
      "**The bird travels 270 miles before the trains collide.**\n",
      "\n",
      "---\n",
      "\n",
      "**Note:** The classic trick is that the infinite back-and-forth trips of the bird aren't directly necessary; just multiply the bird's speed by the total meeting time.\n"
     ]
    }
   ],
   "source": [
    "# Ask it again\n",
    "\n",
    "response_biz_idea = openai.chat.completions.create(\n",
    "    model=\"gpt-4.1-mini\",\n",
    "    messages=messages\n",
    ")\n",
    "\n",
    "answer = response_biz_idea.choices[0].message.content\n",
    "print(answer)\n"
   ]
  },
  {
   "cell_type": "code",
   "execution_count": 14,
   "metadata": {},
   "outputs": [
    {
     "data": {
      "text/markdown": [
       "Let's analyze the problem step-by-step:\n",
       "\n",
       "---\n",
       "\n",
       "**Given:**\n",
       "\n",
       "- Distance between stations A and B = 300 miles\n",
       "- Train A speed = 40 mph (from A toward B)\n",
       "- Train B speed = 60 mph (from B toward A)\n",
       "- Bird speed = 90 mph, flying back and forth between the two trains until they meet\n",
       "\n",
       "---\n",
       "\n",
       "### Step 1: Figure out the time until the trains meet\n",
       "\n",
       "Since they move toward each other, their relative speed is:\n",
       "\n",
       "\\[\n",
       "40 \\text{ mph} + 60 \\text{ mph} = 100 \\text{ mph}\n",
       "\\]\n",
       "\n",
       "Total distance = 300 miles\n",
       "\n",
       "Time until they meet:\n",
       "\n",
       "\\[\n",
       "t = \\frac{\\text{distance}}{\\text{relative speed}} = \\frac{300}{100} = 3 \\text{ hours}\n",
       "\\]\n",
       "\n",
       "---\n",
       "\n",
       "### Step 2: Calculate how far the bird travels in 3 hours\n",
       "\n",
       "The bird flies continuously at 90 mph for those 3 hours:\n",
       "\n",
       "\\[\n",
       "\\text{distance traveled by bird} = \\text{speed} \\times \\text{time} = 90 \\times 3 = 270 \\text{ miles}\n",
       "\\]\n",
       "\n",
       "---\n",
       "\n",
       "### **Answer:**\n",
       "\n",
       "**The bird travels 270 miles before the trains collide.**\n",
       "\n",
       "---\n",
       "\n",
       "**Note:** The classic trick is that the infinite back-and-forth trips of the bird aren't directly necessary; just multiply the bird's speed by the total meeting time."
      ],
      "text/plain": [
       "<IPython.core.display.Markdown object>"
      ]
     },
     "metadata": {},
     "output_type": "display_data"
    }
   ],
   "source": [
    "from IPython.display import Markdown, display\n",
    "\n",
    "display(Markdown(answer))\n",
    "\n"
   ]
  },
  {
   "cell_type": "markdown",
   "metadata": {},
   "source": [
    "# Congratulations!\n",
    "\n",
    "That was a small, simple step in the direction of Agentic AI, with your new environment!\n",
    "\n",
    "Next time things get more interesting..."
   ]
  },
  {
   "cell_type": "markdown",
   "metadata": {},
   "source": [
    "<table style=\"margin: 0; text-align: left; width:100%\">\n",
    "    <tr>\n",
    "        <td style=\"width: 150px; height: 150px; vertical-align: middle;\">\n",
    "            <img src=\"../assets/exercise.png\" width=\"150\" height=\"150\" style=\"display: block;\" />\n",
    "        </td>\n",
    "        <td>\n",
    "            <h2 style=\"color:#ff7800;\">Exercise</h2>\n",
    "            <span style=\"color:#ff7800;\">Now try this commercial application:<br/>\n",
    "            First ask the LLM to pick a business area that might be worth exploring for an Agentic AI opportunity.<br/>\n",
    "            Then ask the LLM to present a pain-point in that industry - something challenging that might be ripe for an Agentic solution.<br/>\n",
    "            Finally have 3 third LLM call propose the Agentic AI solution. <br/>\n",
    "            We will cover this at up-coming labs, so don't worry if you're unsure.. just give it a try!\n",
    "            </span>\n",
    "        </td>\n",
    "    </tr>\n",
    "</table>"
   ]
  },
  {
   "cell_type": "code",
   "execution_count": 19,
   "metadata": {},
   "outputs": [
    {
     "data": {
      "text/markdown": [
       "One promising business area for exploring an Agentic AI opportunity is **Personalized Healthcare Management**.\n",
       "\n",
       "### Why Personalized Healthcare Management?\n",
       "\n",
       "1. **Complex Decision-Making**: Managing a patient’s health involves synthesizing a vast array of data including genetics, lifestyle, symptoms, and medical history. An agentic AI can autonomously gather and analyze this information to create personalized treatment plans and monitor progress in real time.\n",
       "\n",
       "2. **Proactive, Continuous Care**: Such an AI agent could continuously monitor patient data from wearable devices and other sensors, detect anomalies or emerging health risks, and recommend proactive interventions before conditions worsen.\n",
       "\n",
       "3. **Coordination Across Providers**: Agentic AI can act as a coordination hub, autonomously communicating with different healthcare providers, managing appointments, adjusting medications, and ensuring adherence to treatment protocols without the patient needing to chase multiple parties.\n",
       "\n",
       "4. **Accessibility and Scalability**: Personalized healthcare management powered by agentic AI could offer high-quality care to remote or underserved populations, reducing barriers related to cost, geography, or time.\n",
       "\n",
       "5. **Regulatory and Ethical Alignment**: With sufficient safeguards, transparency, and collaboration with medical professionals, this area can align the agentic AI’s autonomy with ethical and legal standards.\n",
       "\n",
       "### Example Opportunity\n",
       "\n",
       "- A subscription-based AI health companion that continuously personalizes diet, exercise, medication, and wellness recommendations.\n",
       "- It autonomously schedules telehealth visits, refills prescriptions, alerts caregivers/family members for emergencies, and learns over time to optimize health outcomes.\n",
       "\n",
       "---\n",
       "\n",
       "If you want, I can help you explore specific Agentic AI features, potential challenges, or go deeper into a business model for this opportunity."
      ],
      "text/plain": [
       "<IPython.core.display.Markdown object>"
      ]
     },
     "metadata": {},
     "output_type": "display_data"
    },
    {
     "data": {
      "text/markdown": [
       "A significant pain point in Personalized Healthcare Management is ** fragmented and incomplete patient data**.\n",
       "\n",
       "### Explanation:\n",
       "- Patient data is often scattered across multiple healthcare providers, labs, pharmacies, and wearable devices, each using different systems and formats.\n",
       "- This fragmentation makes it difficult to get a comprehensive, up-to-date view of a patient’s health.\n",
       "- Without complete and harmonized data, AI agents cannot reliably generate accurate diagnoses, personalized treatment plans, or timely interventions.\n",
       "- Additionally, data privacy regulations (e.g., HIPAA, GDPR) can limit data sharing, complicating efforts to unify patient records.\n",
       "\n",
       "### Impact of This Pain Point:\n",
       "- Delays or errors in diagnosis and treatment.\n",
       "- Redundant tests or conflicting medical advice.\n",
       "- Frustration for patients who must manually share data or repeat medical history.\n",
       "- Reduced trust in AI-driven care recommendations.\n",
       "\n",
       "---\n",
       "\n",
       "Addressing this pain point could become a key differentiator for an agentic AI solution in healthcare. Would you like me to suggest approaches for overcoming it?"
      ],
      "text/plain": [
       "<IPython.core.display.Markdown object>"
      ]
     },
     "metadata": {},
     "output_type": "display_data"
    },
    {
     "data": {
      "text/markdown": [
       "To address the pain point of fragmented and incomplete patient data in Personalized Healthcare Management, a viable solution is to develop an **Agentic AI-powered Health Data Integration and Orchestration Platform** with the following key features:\n",
       "\n",
       "### Solution Overview:\n",
       "An autonomous AI agent that securely aggregates, standardizes, and continuously updates patient data from disparate sources—EHRs (Electronic Health Records), labs, pharmacies, wearable devices, and patient inputs—creating a unified, comprehensive, and real-time health profile.\n",
       "\n",
       "### Key Features:\n",
       "\n",
       "1. **Interoperability Layer**  \n",
       "   - Utilizes healthcare data standards (e.g., HL7 FHIR) and APIs to connect seamlessly with multiple EHR systems, labs, pharmacy databases, and wearable device platforms.\n",
       "   - Employs AI-driven data mapping and normalization to harmonize heterogeneous data formats and terminologies.\n",
       "\n",
       "2. **Privacy-Preserving Data Federation**  \n",
       "   - Incorporates secure multi-party computation and differential privacy techniques to enable data sharing without exposing sensitive patient information.\n",
       "   - Manages patient consent dynamically, providing transparency and control over how and with whom data is shared.\n",
       "\n",
       "3. **Continuous Data Sync and Validation**  \n",
       "   - Agent autonomously schedules data pulls and pushes, ensuring the health profile reflects the latest clinical visits, test results, medication changes, and lifestyle updates.\n",
       "   - Uses anomaly detection to flag inconsistent or potentially erroneous data for human review if necessary.\n",
       "\n",
       "4. **Patient-Centric Access and Control**  \n",
       "   - Offers patients an intuitive dashboard to view and manage their aggregated health data.\n",
       "   - Allows patients to input additional data manually or through connected devices, fine-tuning the AI’s understanding.\n",
       "\n",
       "5. **Actionable Insights Generation**  \n",
       "   - Provides downstream AI modules with reliable, comprehensive data to deliver personalized treatment recommendations, alerts, and care coordination autonomously.\n",
       "\n",
       "### Benefits:\n",
       "- Eliminates silos around patient data, enhancing data completeness and timeliness.\n",
       "- Builds trust through transparent privacy controls.\n",
       "- Increases accuracy and effectiveness of AI-driven health management.\n",
       "- Reduces administrative burden on patients and providers by automating data management.\n",
       "\n",
       "---\n",
       "\n",
       "Would you like me to help design a go-to-market strategy or identify potential technology partners for building this platform?"
      ],
      "text/plain": [
       "<IPython.core.display.Markdown object>"
      ]
     },
     "metadata": {},
     "output_type": "display_data"
    }
   ],
   "source": [
    "# First create the messages:\n",
    "\n",
    "messages = [{\"role\": \"user\", \"content\": \"Pick a business area that might be worth exploring for an Agentic AI opportunity.\"}]\n",
    "\n",
    "# Then make the first call:\n",
    "\n",
    "response_biz_idea = openai.chat.completions.create(\n",
    "    model=\"gpt-4.1-mini\",\n",
    "    messages=messages\n",
    ")\n",
    "display(Markdown(response_biz_idea.choices[0].message.content))\n",
    "# Then read the business idea:\n",
    "\n",
    "business_idea = response_biz_idea.choices[0].message.content\n",
    "\n",
    "# And repeat! In the next message, include the business idea within the message\n",
    "messages.append({\"role\": \"assistant\", \"content\": business_idea})\n",
    "messages.append({\"role\": \"user\", \"content\": \"Identify a pain point in this business area?\"})\n",
    "\n",
    "response_pain_point = openai.chat.completions.create(\n",
    "    model=\"gpt-4.1-mini\",\n",
    "    messages=messages\n",
    ")\n",
    "display(Markdown(response_pain_point.choices[0].message.content))\n",
    "\n",
    "# Propose a solution to the pain point\n",
    "messages.append({\"role\": \"assistant\", \"content\": response_pain_point.choices[0].message.content})\n",
    "messages.append({\"role\": \"user\", \"content\": \"Propose a solution to this pain point\"})\n",
    "response_solution = openai.chat.completions.create(\n",
    "    model=\"gpt-4.1-mini\",\n",
    "    messages=messages\n",
    ")\n",
    "display(Markdown(response_solution.choices[0].message.content))"
   ]
  },
  {
   "cell_type": "markdown",
   "metadata": {},
   "source": []
  }
 ],
 "metadata": {
  "kernelspec": {
   "display_name": "agents",
   "language": "python",
   "name": "python3"
  },
  "language_info": {
   "codemirror_mode": {
    "name": "ipython",
    "version": 3
   },
   "file_extension": ".py",
   "mimetype": "text/x-python",
   "name": "python",
   "nbconvert_exporter": "python",
   "pygments_lexer": "ipython3",
   "version": "3.12.3"
  }
 },
 "nbformat": 4,
 "nbformat_minor": 2
}
